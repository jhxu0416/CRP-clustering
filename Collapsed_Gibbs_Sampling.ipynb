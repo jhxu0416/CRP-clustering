{
 "cells": [
  {
   "cell_type": "code",
   "execution_count": 2,
   "metadata": {
    "collapsed": true
   },
   "outputs": [],
   "source": [
    "import numpy as np\n",
    "from numpy.linalg import inv, det, multi_dot\n",
    "import random\n",
    "import math\n",
    "from sklearn.datasets.samples_generator import make_blobs\n",
    "from collections import Counter\n",
    "import matplotlib.pyplot as plt\n",
    "import pandas as pd"
   ]
  },
  {
   "cell_type": "markdown",
   "metadata": {},
   "source": [
    "https://vincentarelbundock.github.io/Rdatasets/doc/car/Davis.html"
   ]
  },
  {
   "cell_type": "code",
   "execution_count": 3,
   "metadata": {
    "collapsed": true
   },
   "outputs": [],
   "source": [
    "df = pd.read_csv(\"Davis.csv\")\n",
    "df[\"isMale\"]= (df[\"sex\"] == \"M\").astype(int)"
   ]
  },
  {
   "cell_type": "code",
   "execution_count": 4,
   "metadata": {
    "collapsed": true
   },
   "outputs": [],
   "source": [
    "y = df.as_matrix(columns=[\"isMale\"]).reshape(200)\n",
    "X = df.as_matrix(columns=[\"weight\", \"height\"])"
   ]
  },
  {
   "cell_type": "code",
   "execution_count": 5,
   "metadata": {
    "collapsed": true
   },
   "outputs": [],
   "source": [
    "mu_weight, mu_height= np.mean(X, axis =0)\n",
    "sd_weight, sd_height = np.std(X, axis = 0)\n",
    "X_norm = np.stack([(X[:,0]-mu_weight)/sd_weight, (X[:,1]-mu_height)/sd_height], axis= -1)"
   ]
  },
  {
   "cell_type": "code",
   "execution_count": 6,
   "metadata": {
    "collapsed": true
   },
   "outputs": [],
   "source": [
    "X = X_norm"
   ]
  },
  {
   "cell_type": "code",
   "execution_count": 7,
   "metadata": {},
   "outputs": [
    {
     "data": {
      "text/plain": [
       "<matplotlib.collections.PathCollection at 0x7f39d46f7d30>"
      ]
     },
     "execution_count": 7,
     "metadata": {},
     "output_type": "execute_result"
    },
    {
     "data": {
      "image/png": "[encoded data removed]",
      "text/plain": [
       "<matplotlib.figure.Figure at 0x7f39d676f278>"
      ]
     },
     "metadata": {},
     "output_type": "display_data"
    }
   ],
   "source": [
    "%matplotlib inline\n",
    "import matplotlib.pyplot as plt\n",
    "plt.scatter(X_norm[:,0],X_norm[:,1], c= y)"
   ]
  },
  {
   "cell_type": "code",
   "execution_count": 8,
   "metadata": {
    "collapsed": true
   },
   "outputs": [],
   "source": [
    "# dim of data\n",
    "N, D = X.shape\n",
    "#Sig = np.cov(X, rowvar=False)\n",
    "#Sig = np.matrix([[0.5,0.2], [0.2, 0.5]])\n",
    "Sig = np.identity(D)*0.75\n",
    "mu_0 = np.array([0,0]).reshape(D,1)\n",
    "Lambda_0 = np.identity(D)*0.75\n",
    "#Lambda_0 = np.matrix([[0.5,0.2], [0.2, 0.5]])*0.75\n",
    "Sig_inv = inv(Sig)\n",
    "Lam_0_inv = inv(Lambda_0)\n"
   ]
  },
  {
   "cell_type": "code",
   "execution_count": 9,
   "metadata": {
    "collapsed": true
   },
   "outputs": [],
   "source": [
    "def dMVN(x, mu, sig):\n",
    "    d = x.shape[0]\n",
    "    if d != mu.shape[0] or d != sig.shape[0]:\n",
    "        print(\"Unmatched dimension\")\n",
    "        return None\n",
    "    return (2*math.pi)**(-d/2) * (det(sig))**(-0.5) * \\\n",
    "            math.exp(-0.5* multi_dot([np.transpose(np.subtract(x,mu)),inv(sig),np.subtract(x,mu)])[0][0])"
   ]
  },
  {
   "cell_type": "code",
   "execution_count": null,
   "metadata": {
    "collapsed": true
   },
   "outputs": [],
   "source": [
    "zt = list(range(N))\n",
    "Z = np.arange(N).reshape(N,1)\n",
    "length = []\n",
    "for run in range(2000):\n",
    "    #zt_new = list(range(N))\n",
    "    alpha = np.random.gamma(1,1,1)\n",
    "    for i in np.random.permutation(N):\n",
    "        ext_cluster = zt[0:i]+zt[i+1:N]\n",
    "        cluster_cnt = Counter(ext_cluster)\n",
    "        p = {}\n",
    "        # exisiting\n",
    "        for c in cluster_cnt:\n",
    "            n_c = cluster_cnt.get(c)\n",
    "            A = (n_c+1)*Sig_inv+Lam_0_inv\n",
    "            A_inv = inv(A)\n",
    "            c_idx = np.where(np.asarray(zt) == c)[0]\n",
    "            b = np.add(np.matmul(Sig_inv, np.sum([X[j] for j in c_idx], axis = 0)).reshape(D,1), \n",
    "                       np.matmul(Lam_0_inv,mu_0))\n",
    "            sig_i_star = inv(np.subtract(Sig_inv, multi_dot([Sig_inv, A_inv, Sig_inv])))\n",
    "            mu_i_star = multi_dot([sig_i_star, Sig_inv, A_inv, b])\n",
    "            \n",
    "            f = dMVN(X[i].reshape(D,1), mu_i_star, sig_i_star)\n",
    "            p[c] = n_c*f\n",
    "        # new\n",
    "        c = list(set(range(N))-set(ext_cluster))[0]\n",
    "        A = Sig_inv+Lam_0_inv\n",
    "        A_inv = inv(A)\n",
    "        b = np.matmul(Lam_0_inv,mu_0)\n",
    "        sig_i_star = inv(np.subtract(Sig_inv, multi_dot([Sig_inv, A_inv, Sig_inv])))\n",
    "        mu_i_star = multi_dot([sig_i_star, Sig_inv, A_inv, b])\n",
    "        f = dMVN(X[i].reshape(D,1), mu_i_star, sig_i_star)\n",
    "        p[c] = alpha * f\n",
    "        clusters = list(p.keys())\n",
    "        zt[i] = random.choices(clusters, weights=[p.get(cl) for cl in clusters], k=1)[0]\n",
    "    length.append(len(set(zt)))\n",
    "    Z = np.concatenate((Z,np.asarray(zt).reshape(N,1)),axis =1)\n",
    "    #zt = zt_new\n",
    "    if run % 100 == 0:\n",
    "        print(\"Done {} runs\".format(run))\n",
    "print(\"Done\")"
   ]
  },
  {
   "cell_type": "code",
   "execution_count": 10,
   "metadata": {},
   "outputs": [
    {
     "name": "stdout",
     "output_type": "stream",
     "text": [
      "Done 0 runs\n",
      "Done 100 runs\n",
      "Done 200 runs\n",
      "Done 300 runs\n",
      "Done 400 runs\n",
      "Done 500 runs\n",
      "Done 600 runs\n",
      "Done 700 runs\n",
      "Done 800 runs\n",
      "Done 900 runs\n",
      "Done 1000 runs\n",
      "Done 1100 runs\n",
      "Done 1200 runs\n",
      "Done 1300 runs\n",
      "Done 1400 runs\n",
      "Done 1500 runs\n",
      "Done 1600 runs\n",
      "Done 1700 runs\n",
      "Done 1800 runs\n",
      "Done 1900 runs\n",
      "Done\n"
     ]
    }
   ],
   "source": [
    "cluster_idx = {(0,0):list(range(N))}\n",
    "cluster_assigment = dict(zip(list(range(N)), [(0,0)]*N))\n",
    "length = []\n",
    "for run in range(2000):\n",
    "    alpha = np.random.gamma(1,1,1)[0]\n",
    "    for i in np.random.permutation(N):\n",
    "        zt =  [cluster_assigment[i] for i in range(N)]\n",
    "        ext_cluster = zt[0:i]+zt[i+1:N]\n",
    "        Counter(ext_cluster)\n",
    "        cluster_cnt = Counter(ext_cluster)\n",
    "        prob = {}\n",
    "        # delete cluster assignment for i\n",
    "        old_c = cluster_assigment[i]\n",
    "        if len(cluster_idx[old_c]) == 1:\n",
    "            del cluster_idx[old_c]\n",
    "        # exisiting\n",
    "        for c in cluster_cnt:\n",
    "            n_c = cluster_cnt.get(c)\n",
    "            A = (n_c+1)*Sig_inv+Lam_0_inv\n",
    "            A_inv = inv(A)\n",
    "            c_idx = cluster_idx.get(c)\n",
    "            if i in c_idx:\n",
    "                c_idx.remove(i)\n",
    "                if c_idx:\n",
    "                    cluster_idx[c] = c_idx\n",
    "                else:\n",
    "                    del cluster_idx[c]\n",
    "            b = np.add(np.matmul(Sig_inv, np.sum([X[j] for j in c_idx], axis = 0)).reshape(D,1), \n",
    "                       np.matmul(Lam_0_inv,mu_0))\n",
    "            sig_i_star = inv(np.subtract(Sig_inv, multi_dot([Sig_inv, A_inv, Sig_inv])))\n",
    "            mu_i_star = multi_dot([sig_i_star, Sig_inv, A_inv, b])\n",
    "\n",
    "            f = dMVN(X[i].reshape(D,1), mu_i_star, sig_i_star)\n",
    "            prob[c] = n_c*f\n",
    "        # new\n",
    "        A = Sig_inv+Lam_0_inv\n",
    "        A_inv = inv(A)\n",
    "        b = np.matmul(Lam_0_inv,mu_0)\n",
    "        sig_i_star = inv(np.subtract(Sig_inv, multi_dot([Sig_inv, A_inv, Sig_inv])))\n",
    "        mu_i_star = multi_dot([sig_i_star, Sig_inv, A_inv, b])\n",
    "        f = dMVN(X[i].reshape(D,1), mu_i_star, sig_i_star)\n",
    "        prob[\"new\"] = alpha * f\n",
    "        clusters = list(prob.keys())\n",
    "        cluster_sample = random.choices(clusters, weights=[prob.get(cl) for cl in clusters], k=1)[0]\n",
    "        if cluster_sample != \"new\":\n",
    "            cluster_assigment[i] = cluster_sample\n",
    "            cluster_idx[cluster_sample] = cluster_idx.get(cluster_sample)+[i]\n",
    "            sigma_new = inv(np.add((cluster_cnt.get(cluster_sample)+1)*Sig_inv,Lam_0_inv))\n",
    "            mu_new = np.matmul(sigma_new, \n",
    "                               np.add(np.matmul(Sig_inv, \n",
    "                                                np.sum([X[j] for j in cluster_idx[cluster_sample]], axis = 0).reshape(D,1)), \n",
    "                                                np.matmul(Lam_0_inv,mu_0)))\n",
    "\n",
    "            class_param = np.random.multivariate_normal(np.squeeze(np.asarray(mu_new)),sigma_new)\n",
    "\n",
    "            for idx in cluster_idx.get(cluster_sample):\n",
    "                cluster_assigment[idx] = tuple(class_param)\n",
    "\n",
    "            cluster_idx[tuple(class_param)] = cluster_idx[cluster_sample]\n",
    "            del cluster_idx[cluster_sample]\n",
    "        else:\n",
    "            sigma_new = inv(np.add(Sig_inv,Lam_0_inv))\n",
    "            mu_new = np.matmul(sigma_new, \n",
    "                               np.add(np.matmul(Sig_inv, X[i].reshape(D,1)), \n",
    "                                      np.matmul(Lam_0_inv,mu_0)))\n",
    "\n",
    "            class_param = np.random.multivariate_normal(np.squeeze(np.asarray(mu_new)),sigma_new)\n",
    "            cluster_idx[tuple(class_param)] = [i]\n",
    "            cluster_assigment[i] = tuple(class_param)\n",
    "        length.append(len(cluster_idx))\n",
    "    if run % 100 == 0:\n",
    "        print(\"Done {} runs\".format(run))\n",
    "print(\"Done\")"
   ]
  },
  {
   "cell_type": "code",
   "execution_count": 11,
   "metadata": {},
   "outputs": [
    {
     "data": {
      "image/png": "[encoded data removed]",
      "text/plain": [
       "<matplotlib.figure.Figure at 0x7f39d46d1e48>"
      ]
     },
     "metadata": {},
     "output_type": "display_data"
    }
   ],
   "source": [
    "plt.plot(length)\n",
    "plt.show()\n",
    "    "
   ]
  },
  {
   "cell_type": "code",
   "execution_count": null,
   "metadata": {
    "collapsed": true
   },
   "outputs": [],
   "source": [
    "len(cluster_idx)"
   ]
  },
  {
   "cell_type": "code",
   "execution_count": null,
   "metadata": {
    "collapsed": true
   },
   "outputs": [],
   "source": []
  },
  {
   "cell_type": "code",
   "execution_count": null,
   "metadata": {
    "collapsed": true
   },
   "outputs": [],
   "source": [
    "zt = [(0,0)]*N\n",
    "Z = np.arange(N).reshape(N,1)\n",
    "length = []\n",
    "for run in range(2000):\n",
    "    #zt_new = list(range(N))\n",
    "    alpha = np.random.gamma(1,1,1)\n",
    "    for i in np.random.permutation(N):\n",
    "        ext_cluster = zt[0:i]+zt[i+1:N]\n",
    "        cluster_cnt = Counter(ext_cluster)\n",
    "        p = {}\n",
    "        # exisiting\n",
    "        for c in cluster_cnt:\n",
    "            n_c = cluster_cnt.get(c)\n",
    "            A = (n_c+1)*Sig_inv+Lam_0_inv\n",
    "            A_inv = inv(A)\n",
    "            c_idx = np.where(np.asarray(zt) == c)[0]\n",
    "            b = np.add(np.matmul(Sig_inv, np.sum([X[j] for j in c_idx], axis = 0)).reshape(D,1), \n",
    "                       np.matmul(Lam_0_inv,mu_0))\n",
    "            sig_i_star = inv(np.subtract(Sig_inv, multi_dot([Sig_inv, A_inv, Sig_inv])))\n",
    "            mu_i_star = multi_dot([sig_i_star, Sig_inv, A_inv, b])\n",
    "            \n",
    "            f = dMVN(X[i].reshape(D,1), mu_i_star, sig_i_star)\n",
    "            p[c] = n_c*f\n",
    "        # new\n",
    "        c = list(set(range(N))-set(ext_cluster))[0]\n",
    "        A = Sig_inv+Lam_0_inv\n",
    "        A_inv = inv(A)\n",
    "        b = np.matmul(Lam_0_inv,mu_0)\n",
    "        sig_i_star = inv(np.subtract(Sig_inv, multi_dot([Sig_inv, A_inv, Sig_inv])))\n",
    "        mu_i_star = multi_dot([sig_i_star, Sig_inv, A_inv, b])\n",
    "        f = dMVN(X[i].reshape(D,1), mu_i_star, sig_i_star)\n",
    "        p[c] = alpha * f\n",
    "        clusters = list(p.keys())\n",
    "        zt[i] = random.choices(clusters, weights=[p.get(cl) for cl in clusters], k=1)[0]\n",
    "    length.append(len(set(zt)))\n",
    "    Z = np.concatenate((Z,np.asarray(zt).reshape(N,1)),axis =1)\n",
    "    #zt = zt_new\n",
    "    if run % 100 == 0:\n",
    "        print(\"Done {} runs\".format(run))\n",
    "print(\"Done\")"
   ]
  },
  {
   "cell_type": "code",
   "execution_count": null,
   "metadata": {
    "collapsed": true
   },
   "outputs": [],
   "source": [
    "from scipy import stats\n",
    "C = Z[:,1001:]\n",
    "res = stats.mode(C, axis = 1)[0].reshape(200)\n",
    "print(set(res))\n",
    "res"
   ]
  },
  {
   "cell_type": "code",
   "execution_count": null,
   "metadata": {
    "collapsed": true
   },
   "outputs": [],
   "source": [
    "%matplotlib inline\n",
    "import matplotlib.pyplot as plt\n",
    "plt.scatter(X[:,0],X[:,1],c=res)"
   ]
  },
  {
   "cell_type": "code",
   "execution_count": null,
   "metadata": {
    "collapsed": true
   },
   "outputs": [],
   "source": [
    "print(np.mean(X[y==1,:], axis = 0))\n",
    "print(np.mean(X[y==0,:], axis = 0))"
   ]
  },
  {
   "cell_type": "code",
   "execution_count": null,
   "metadata": {
    "collapsed": true
   },
   "outputs": [],
   "source": [
    "from sklearn.cluster import KMeans\n",
    "kmeans = KMeans(n_clusters=2, random_state=0).fit(X)\n",
    "print(np.mean(X[kmeans.labels_==1,:], axis = 0))\n",
    "print(np.mean(X[kmeans.labels_==0,:], axis = 0))"
   ]
  }
 ],
 "metadata": {
  "kernelspec": {
   "display_name": "Python 3",
   "language": "python",
   "name": "python3"
  },
  "language_info": {
   "codemirror_mode": {
    "name": "ipython",
    "version": 3
   },
   "file_extension": ".py",
   "mimetype": "text/x-python",
   "name": "python",
   "nbconvert_exporter": "python",
   "pygments_lexer": "ipython3",
   "version": "3.6.2"
  }
 },
 "nbformat": 4,
 "nbformat_minor": 2
}
