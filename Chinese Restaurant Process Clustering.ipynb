{
 "cells": [
  {
   "cell_type": "markdown",
   "metadata": {
    "collapsed": true
   },
   "source": [
    "# Dirichlet Process (DP)\n",
    "\n",
    "## Ferguson's Definition of a DP\n",
    "\n",
    "We have a measure space $(\\Theta, \\Sigma)$. Define a measurable finite partitioning of $\\Theta$ to be a finite collection of sets $A_1,A_2, \\dots,A_K$ such that:\n",
    "\n",
    "* Finite: $K<\\infty$\n",
    "\n",
    "* Measureable: $A_k \\in \\Sigma$\n",
    "\n",
    "* Disjoint: $A_j \\cap A_k = \\emptyset, \\forall j \\neq k$\n",
    "\n",
    "* Complete: $\\cup_kA_k=\\Theta$\n",
    "\n",
    "A Dirichlet process is a random probabiolity measure $G$ over a $(\\Theta, \\Sigma)$ with property that given any measurable finite partitioning of $\\Theta$, we have\n",
    "\n",
    "$$\n",
    "[G(A_1),\\dots ,G(A_K)] \\sim Dirichlet (\\alpha H(A_1),\\dots , \\alpha H(A_K))\n",
    "$$\n",
    "\n",
    "where $\\alpha$ is scale, and $H$ is base measure, and $G \\sim DP(\\alpha, H)$ will be discrete. \n",
    "\n",
    "## Reference:\n",
    "\n",
    "Ferguson, A Bayesian Analysis of Some Nonparametric Problems, Annals of Statistics, 1973\n",
    "\n",
    "## Related link:\n",
    "\n",
    "https://projecteuclid.org/download/pdf_1/euclid.aos/1176342360\n",
    "\n",
    "https://www.youtube.com/watch?v=xusN7RqKpPI"
   ]
  },
  {
   "cell_type": "markdown",
   "metadata": {},
   "source": [
    "# Model Assumption\n",
    "\n",
    "Assume our observed data come from the same distribution with different parameters. \n",
    "\n",
    "$$\n",
    "X_i \\sim \\mathcal{F}(\\boldsymbol{\\Theta}_i)\n",
    "$$\n",
    "\n",
    "To do clustering, we need to merge data with same parameters. We also have following assumption for $\\boldsymbol{\\Theta}$.\n",
    "\n",
    "$$\n",
    "\\boldsymbol{\\Theta}_i \\overset{\\text{iid}}{\\sim} H\n",
    "$$\n",
    "\n",
    "If $\\mathcal{H}$ is a continuous distribution, we have \n",
    "$Pr(\\boldsymbol{\\Theta}_i = \\boldsymbol{\\Theta}_j) = 0$, when $i \\neq j$. This is not the situation we want to see, because we want to assign data with same $\\boldsymbol{\\Theta}_i$ to the same cluster. In this case, we introduce \n",
    "dirichlet process (DP) with scale $\\alpha$.\n",
    "\n",
    "$$\n",
    "G \\sim DP(\\alpha, H)\n",
    "$$\n",
    "\n",
    "Then we may assume $\\boldsymbol{\\Theta}_i \\overset{\\text{iid}}{\\sim} G$, where $G$ is a discrete distribution."
   ]
  },
  {
   "cell_type": "markdown",
   "metadata": {},
   "source": [
    "## Notation\n",
    "\n",
    "In a DP, assume we have a measurable finite partitioning of $\\boldsymbol{\\Theta}$ to be a finite collection of sets $A_1,A_2, \\dots,A_K$, we introduce following two latent variables. \n",
    "\n",
    "$Z_i$ indicates index of partition where $\\boldsymbol{\\Theta}_i$ of sampled data $X_i$ falls in.\n",
    "\n",
    "$Z_i \\ \\triangleq j$ iff $\\boldsymbol{\\Theta}_i \\in A_j$\n",
    "\n",
    "$Z_{-i} \\triangleq Z_1, \\dots, Z_{i-1}, Z_{i+1}, \\dots, Z_n$\n",
    "\n",
    "$n_{k,-i} \\triangleq \\sum_{j \\neq i} I(Z_j = k)$\n",
    "\n",
    "$p_i  \\triangleq Pr(Z=i) $"
   ]
  },
  {
   "cell_type": "markdown",
   "metadata": {},
   "source": [
    "## Likelihood\n",
    "\n",
    "$$\n",
    "L(Z)  = \\prod_{k=1}^{K} p_k^{n_k}\n",
    "$$"
   ]
  },
  {
   "cell_type": "markdown",
   "metadata": {},
   "source": [
    "## Prior\n",
    "\n",
    "$$\n",
    "\\pi (p_1, \\dots ,p_K)  \\sim DIR(\\frac{\\alpha}{K}, \\dots, \\frac{\\alpha}{K})\n",
    "$$"
   ]
  },
  {
   "cell_type": "markdown",
   "metadata": {
    "collapsed": true
   },
   "source": [
    "## Predictive Distribution\n",
    "\n",
    "$$\n",
    "\\begin{align}\n",
    "P(Z_i=m|Z_{-i}) & = \\frac{P(Z_i = m, Z_{-i})}{P(Z_{-i})} \\\\\n",
    "& = \\frac{\\int_{p_1, \\dots ,p_K}P(Z_i = m, Z_{-i}|p_1, \\dots ,p_K) \\pi (p_1, \\dots ,p_K)d p_1 \\dots dp_K}\n",
    "    {\\int_{p_1, \\dots ,p_K}P(Z_{-i}|p_1, \\dots ,p_K) \\pi (p_1, \\dots ,p_K) d p_1 \\dots dp_K} \\\\\n",
    "\\end{align}\n",
    "$$\n",
    "\n",
    "### Numerator\n",
    "Consider the numerator, under $Z_i = m, Z_{-i}$ case. $n_k = n_{k,-i}$ when $k \\neq m$, and $n_m = n_{m,-i}+1$ because $\\boldsymbol{\\Theta}_i \\in A_m$\n",
    "\n",
    "$$\n",
    "P(Z_i = m, Z_{-i}|p_1, \\dots ,p_K)= p_m^{n_{m,-i}+1} \\prod_{k=1,k \\neq m}^{K} p_k^{n_{k,-i}}\n",
    "$$\n",
    "\n",
    "Therefore, we can write our numerator of posterior into following\n",
    "\n",
    "$$\n",
    "\\begin{align}\n",
    "numerator\n",
    "& = \\int_{p_1, \\dots ,p_K}P(Z_i = m, Z_{-i}|p_1, \\dots ,p_K) \\pi (p_1, \\dots ,p_K)d p_1 \\dots dp_K\\\\\n",
    "& = \\int_{p_1, \\dots ,p_K} [p_m^{n_{m,-i}+1} \\prod_{k=1,k \\neq m}^{K} p_k^{n_{k,-i}}] \\frac{\\Gamma(\\sum_{k=1}^{K}\\frac{\\alpha}{K})}{\\prod_{k=1}^{K}\\Gamma(\\frac{\\alpha}{K})}\\prod_{k=1}^{K}p_k^{\\frac{\\alpha}{K}-1}d p_1 \\dots dp_K \\\\\n",
    "& = \\frac{\\Gamma(\\sum_{k=1}^{K}\\frac{\\alpha}{K})}{\\prod_{k=1}^{K}\\Gamma(\\frac{\\alpha}{K})}\n",
    "\\frac{\\Gamma(\\frac{\\alpha}{K}+n_{m,-i}+1) \\cdot \\prod_{k=1}^{K}\\Gamma(\\frac{\\alpha}{K}+n_{k,-i})}\n",
    "{\\Gamma(\\frac{\\alpha}{K}+n_{m,-i}+1+\\sum_{k=1,k \\neq m}^{K}(\\frac{\\alpha}{K}+n_{k,-i}))} \\cdot\n",
    "\\\\\n",
    "&\\int_{p_1, \\dots ,p_K}\n",
    "\\frac{\\Gamma(\\frac{\\alpha}{K}+n_{m,-i}+1+\\sum_{k=1,k \\neq m}^{K}(\\frac{\\alpha}{K}+n_{k,-i}))}\n",
    "{\\Gamma(\\frac{\\alpha}{K}+n_{m,-i}+1) \\cdot \\prod_{k=1}^{K}\\Gamma(\\frac{\\alpha}{K}+n_{k,-i})}\n",
    "p_m^{\\frac{\\alpha}{K}+n_{m,-i}+1-1}   \\prod_{k=1,k \\neq m}^{K}p_k^{\\frac{\\alpha}{K}+n_{k,-i}-1}d p_1 \\dots dp_K \\\\\n",
    "\\end{align}\n",
    "$$\n",
    "\n",
    "We recognize Dirichlet kernel $Dir(\\frac{\\alpha}{K}+n_{1,-i},\\dots,\\frac{\\alpha}{K}+n_{m,-i}+1 ,\\dots,\\frac{\\alpha}{K}+n_{K,-i})$\n",
    "\n",
    "$$\n",
    "numerator =\\frac{\\Gamma(\\sum_{k=1}^{K}\\frac{\\alpha}{K})}{\\prod_{k=1}^{K}\\Gamma(\\frac{\\alpha}{K})}\n",
    "\\frac{\\Gamma(\\frac{\\alpha}{K}+n_{m,-i}+1) \\cdot \\prod_{k=1}^{K}\\Gamma(\\frac{\\alpha}{K}+n_{k,-i})}\n",
    "{\\Gamma(\\frac{\\alpha}{K}+n_{m,-i}+1+\\sum_{k=1,k \\neq m}^{K}(\\frac{\\alpha}{K}+n_{k,-i}))}\n",
    "\\\\\n",
    "$$\n"
   ]
  },
  {
   "cell_type": "markdown",
   "metadata": {},
   "source": [
    "### Denominator\n",
    "Consider the denominator, under $Z_{-i}$ case. $n_k = n_{k,-i}$.\n",
    "\n",
    "$$\n",
    "P(Z_{-i}|p_1, \\dots ,p_K)= \\prod_{k=1}^{K} p_k^{n_{k,-i}}\n",
    "$$\n",
    "\n",
    "Therefore, we can write our denominator of posterior into following\n",
    "\n",
    "$$\n",
    "\\begin{align}\n",
    "denominator\n",
    "& = \\int_{p_1, \\dots ,p_K}P(Z_{-i}|p_1, \\dots ,p_K) \\pi (p_1, \\dots ,p_K)d p_1 \\dots dp_K\\\\\n",
    "& = \\int_{p_1, \\dots ,p_K} [ \\prod_{k=1}^{K} p_k^{n_{k,-i}}] \\frac{\\Gamma(\\sum_{k=1}^{K}\\frac{\\alpha}{K})}{\\prod_{k=1}^{K}\\Gamma(\\frac{\\alpha}{K})}\\prod_{k=1}^{K}p_k^{\\frac{\\alpha}{K}-1}d p_1 \\dots dp_K \\\\\n",
    "& = \\frac{\\Gamma(\\sum_{k=1}^{K}\\frac{\\alpha}{K})}{\\prod_{k=1}^{K}\\Gamma(\\frac{\\alpha}{K})}\n",
    "\\int_{p_1, \\dots ,p_K}  \\prod_{k=1}^{K}p_k^{\\frac{\\alpha}{K}+n_{k,-i}-1}d p_1 \\dots dp_K \\\\\n",
    "& = \\frac{\\Gamma(\\sum_{k=1}^{K}\\frac{\\alpha}{K})}{\\prod_{k=1}^{K}\\Gamma(\\frac{\\alpha}{K})}\n",
    "\\frac{\\prod_{k=1}^{K}\\Gamma(\\frac{\\alpha}{K}+n_{k,-i})}\n",
    "{\\Gamma(\\sum_{k=1}^{K}(\\frac{\\alpha}{K}+n_{k,-i}))}\n",
    "\\int_{p_1, \\dots ,p_K} \n",
    "\\frac{\\Gamma(\\sum_{k=1}^{K}(\\frac{\\alpha}{K}+n_{k,-i}))}\n",
    "{\\prod_{k=1}^{K}\\Gamma(\\frac{\\alpha}{K}+n_{k,-i})} \n",
    "\\prod_{k=1}^{K}p_k^{\\frac{\\alpha}{K}+n_{k,-i}-1}d p_1 \\dots dp_K \\\\\n",
    "\\end{align}\n",
    "$$\n",
    "\n",
    "We recognize Dirichlet kernel $Dir(\\frac{\\alpha}{K}+n_{1,-i},\\dots, \\frac{\\alpha}{K}+n_{K,-i})$\n",
    "\n",
    "$$\n",
    "denominator =\\frac{\\Gamma(\\sum_{k=1}^{K}\\frac{\\alpha}{K})}{\\prod_{k=1}^{K}\\Gamma(\\frac{\\alpha}{K})}\n",
    "\\frac{\\prod_{k=1}^{K}\\Gamma(\\frac{\\alpha}{K}+n_{k,-i})}\n",
    "{\\Gamma(\\sum_{k=1}^{K}(\\frac{\\alpha}{K}+n_{k,-i}))}\n",
    "$$"
   ]
  },
  {
   "cell_type": "markdown",
   "metadata": {},
   "source": [
    "## Posterior\n",
    "$$\n",
    "\\begin{align}\n",
    "P(Z_i=m|Z_{-i}) & = \\frac{numerator}{denominator} \\\\\n",
    "& = \\frac{\\frac{\\Gamma(\\sum_{k=1}^{K}\\frac{\\alpha}{K})}{\\prod_{k=1}^{K}\\Gamma(\\frac{\\alpha}{K})}\n",
    "\\frac{\\Gamma(\\frac{\\alpha}{K}+n_{m,-i}+1) \\cdot \\prod_{k=1}^{K}\\Gamma(\\frac{\\alpha}{K}+n_{k,-i})}\n",
    "{\\Gamma(\\frac{\\alpha}{K}+n_{m,-i}+1+\\sum_{k=1,k \\neq m}^{K}(\\frac{\\alpha}{K}+n_{k,-i}))}}\n",
    "{\\frac{\\Gamma(\\sum_{k=1}^{K}\\frac{\\alpha}{K})}{\\prod_{k=1}^{K}\\Gamma(\\frac{\\alpha}{K})}\n",
    "\\frac{\\prod_{k=1}^{K}\\Gamma(\\frac{\\alpha}{K}+n_{k,-i})}\n",
    "{\\Gamma(\\sum_{k=1}^{K}(\\frac{\\alpha}{K}+n_{k,-i}))}} \\\\\n",
    "& = \\frac{\n",
    "\\Gamma(\\frac{\\alpha}{K}+n_{m,-i}+1) \\cdot \\prod_{k=1}^{K}\\Gamma(\\frac{\\alpha}{K}+n_{k,-i}) \\cdot\n",
    "\\Gamma(\\sum_{k=1}^{K}(\\frac{\\alpha}{K}+n_{k,-i}))\n",
    "}{\\prod_{k=1}^{K}\\Gamma(\\frac{\\alpha}{K}+n_{k,-i}) \\cdot \n",
    "\\Gamma(\\frac{\\alpha}{K}+n_{m,-i}+1+\\sum_{k=1,k \\neq m}^{K}(\\frac{\\alpha}{K}+n_{k,-i}))\n",
    "}\\\\\n",
    "& = \\frac{\n",
    "\\Gamma(\\frac{\\alpha}{K}+n_{m,-i}+1)  \\cdot\n",
    "\\Gamma(\\sum_{k=1}^{K}(\\frac{\\alpha}{K}+n_{k,-i}))\n",
    "}{\\Gamma(\\frac{\\alpha}{K}+n_{m,-i})\n",
    "\\Gamma(1+\\sum_{k=1}^{K}(\\frac{\\alpha}{K}+n_{k,-i}))\n",
    "} \\\\ \n",
    "& = \\frac{\\frac{\\alpha}{K}+n_{m,-i}}{\\sum_{k=1}^{K}(\\frac{\\alpha}{K}+n_{k,-i})} \n",
    " = \\frac{\\frac{\\alpha}{K}+n_{m,-i}}{\\sum_{k=1}^{K}\\frac{\\alpha}{K}+\\sum_{k=1}^{K}n_{k,-i}} \\\\\n",
    "& = \\frac{\\frac{\\alpha}{K}+n_{m,-i}}{\\alpha+n-1} \\\\\n",
    "\\end{align}\n",
    "$$\n",
    "\n"
   ]
  },
  {
   "cell_type": "markdown",
   "metadata": {},
   "source": [
    "## Chinese Restaurant Process (CRP)\n",
    "If let $K \\rightarrow \\infty$, we get the key formula for our Chinese Restaurant Process (CRP) clustering.\n",
    "\n",
    "$$\n",
    "P(Z_i=m|Z_{-i})= \\frac{n_{m,-i}}{\\alpha+n-1} \\quad \\forall i \\in [1,K]\n",
    "$$\n",
    "\n",
    "However, when sum up the predictive probability along 1 to K, the probability of $Z_i$ belong to a existing cluster\n",
    "is \n",
    "$$\n",
    "\\sum_{i=1}^{K} P(Z_i=m|Z_{-i})= \\sum_{i=1}^{K} \\frac{n_{m,-i}}{\\alpha+n-1} = \\frac{n-1}{\\alpha+n-1} \\neq 1\n",
    "$$\n",
    "\n",
    "Therefore, we assign remaining probability to the case $Z_i$ belong to a new cluster\n",
    "\n",
    "$$\n",
    "P(Z_i = K+1|Z_{-i})= \\frac{\\alpha}{\\alpha+n-1}\n",
    "$$"
   ]
  },
  {
   "cell_type": "markdown",
   "metadata": {},
   "source": [
    "http://scikit-learn.sourceforge.net/dev/modules/dp-derivation.html"
   ]
  }
 ],
 "metadata": {
  "kernelspec": {
   "display_name": "Python 3",
   "language": "python",
   "name": "python3"
  },
  "language_info": {
   "codemirror_mode": {
    "name": "ipython",
    "version": 3
   },
   "file_extension": ".py",
   "mimetype": "text/x-python",
   "name": "python",
   "nbconvert_exporter": "python",
   "pygments_lexer": "ipython3",
   "version": "3.6.2"
  }
 },
 "nbformat": 4,
 "nbformat_minor": 2
}
