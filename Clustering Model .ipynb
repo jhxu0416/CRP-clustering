{
 "cells": [
  {
   "cell_type": "markdown",
   "metadata": {},
   "source": [
    "# Structure\n",
    "\n",
    "We observe data $x_1, x_2, \\dots, x_N$, and assume all data comes from a multivariate normal distribution with fixed variance $\\Sigma$.\n",
    "\n",
    "$$\n",
    "\\begin{split}\n",
    "x_i & \\sim \\mathcal{MVN}(\\xi_j, \\Sigma) \\\\\n",
    "\\mathcal{H} & =\\mathcal{MVN}(\\mu_0, \\Lambda_0) \\\\\n",
    "\\xi & \\sim \\mathcal{H} \\\\\n",
    "G &= DP(\\alpha,\\mathcal{H})\\\\\n",
    "\\end{split}\n",
    "$$\n"
   ]
  },
  {
   "cell_type": "markdown",
   "metadata": {},
   "source": [
    "$$\n",
    "\\begin{split}\n",
    "& Pr(z_i = m | z_{-i}, x_i, x_{-i}, \\{\\xi\\}, \\alpha) \\\\\n",
    "=& Pr(z_i = m | z_{-i}, x_i, x_{-i}, \\xi_m, \\alpha) \\\\\n",
    "=& \\frac{Pr(z_i = m, z_{-i}, x_i, x_{-i}, \\xi_m, \\alpha)\n",
    "        }{Pr(z_{-i}, x_i, x_{-i}, \\xi_m, \\alpha)\n",
    "        } \\\\\n",
    "=& \\frac{Pr(z_i = m, z_{-i}, x_i, x_{-i}, \\xi_m, \\alpha)\n",
    "        }{Pr(z_{-i}, x_i, x_{-i}, \\xi_m, \\alpha)\n",
    "        } \\\\\n",
    "=& \\frac{Pr(x_i|z_i = m, z_{-i}, x_{-i}, \\xi_m, \\alpha) \\cdot Pr(z_i = m|z_{-i}, x_{-i}, \\xi_m, \\alpha)\n",
    "         \\cdot Pr(z_{-i}, x_{-i}, \\xi_m, \\alpha)\n",
    "        }{Pr(x_i|z_{-i}, x_{-i}, \\xi_m, \\alpha) \\cdot Pr(z_{-i}, x_{-i}, \\xi_m, \\alpha)\n",
    "        } \\\\    \n",
    "=& \\frac{Pr(x_i|z_i = m, z_{-i}, x_{-i}, \\xi_m, \\alpha) \\cdot Pr(z_i = m|z_{-i}, \\alpha)\n",
    "         \\cdot Pr(z_{-i}, x_{-i}, \\xi_m, \\alpha)\n",
    "        }{Pr(x_i|z_{-i}, x_{-i}, \\xi_m, \\alpha)\n",
    "        } \\\\\n",
    "\\propto & Pr(x_i|z_i = m, z_{-i}, x_{-i}, \\xi_m) \\cdot Pr(z_i = m|z_{-i}, \\alpha) \\\\\n",
    "=& \\left\\{\n",
    "        \\begin{array}{ll}\n",
    "          \\frac{n_{m,-i}}{\\alpha+N-1} \\int_{\\xi} Pr(x_i|\\xi_m) \\cdot Pr(\\xi_m|x_{-i},\\mathcal{H})  \\quad exisiting \\quad cluster\\\\\n",
    "          \\frac{\\alpha}{\\alpha+N-1} \\int_{\\xi} Pr(x_i|\\xi_m) \\cdot Pr(\\xi_m|\\mathcal{H}) \\quad new \\quad cluster\\\\\n",
    "        \\end{array}\n",
    "   \\right.\n",
    "\\end{split}\n",
    "$$"
   ]
  },
  {
   "cell_type": "markdown",
   "metadata": {},
   "source": [
    "## new cluster \n",
    "\n",
    "$$\n",
    "\\begin{split}\n",
    "Pr(x_i|z_i = m, z_{-i}, x_{-i}, \\xi_m) &=\n",
    "\\int_{\\xi} Pr(x_i|\\xi_m) \\cdot Pr(\\xi_m|\\mathcal{H})\\\\ \n",
    "& = \\int_{\\xi} (2 \\pi)^{-D/2}|\\Sigma|^{-1/2}exp[-\\frac{1}{2} (x_i- \\xi_m)^T \\Sigma^{-1}(x_i- \\xi_m)] \\cdot\n",
    "    (2 \\pi)^{-D/2} |\\Lambda_0|^{-1/2} exp[-\\frac{1}{2} (\\xi_m-\\mu_0)^T \\Lambda_0^{-1}(\\xi_m-\\mu_0)] \\\\\n",
    "& = (2 \\pi)^{-D} |\\Sigma|^{-1/2} |\\Lambda_0|^{-1/2} \\int_{\\xi} \n",
    "    exp[-\\frac{1}{2}((x_i- \\xi_m)^T \\Sigma^{-1}(x_i- \\xi_m)+(\\xi_m-\\mu_0)^T \\Lambda_0^{-1}(\\xi_m-\\mu_0))] \\\\\n",
    "&=  (2 \\pi)^{-D} |\\Sigma|^{-1/2} |\\Lambda_0|^{-1/2} exp[-\\frac{1}{2} \\mu_0^T \\Lambda_0^{-1} \\mu_0]\n",
    "    exp[-\\frac{1}{2} x_i^T \\Sigma^{-1} x_i] \\int_{\\xi} \n",
    "    exp[-\\frac{1}{2} \\{ \\xi_m^T(\\Sigma^{-1}+\\Lambda_0^{-1})\\xi_m -2\\xi_m^T(\\Sigma^{-1}x_i+\\Lambda_0^{-1} \\mu_0) \\}] \\\\\n",
    "& \\propto  exp[-\\frac{1}{2} x_i^T \\Sigma^{-1} x_i] \\cdot\n",
    "           exp[\\frac{1}{2} (\\Sigma^{-1}x_i+\\Lambda_0^{-1}\\mu_0)^T (\\Sigma^{-1}+\\Lambda_0^{-1})^{-1}\n",
    "           (\\Sigma^{-1}x_i+\\Lambda_0^{-1}\\mu_0)] \\\\\n",
    "    & \\cdot \\int_{\\xi} \n",
    "    exp[-\\frac{1}{2} \\{ \\xi_m-(\\Sigma^{-1}+\\Lambda_0^{-1})^{-1}(\\Sigma^{-1}x_i+\\Lambda_0^{-1}\\mu_0) \\}^T\n",
    "    (\\Sigma^{-1}+\\Lambda_0^{-1})\n",
    "    \\{ \\xi_m-(\\Sigma^{-1}+\\Lambda_0^{-1})^{-1}(\\Sigma^{-1}x_i+\\Lambda_0^{-1}\\mu_0) \\}] \\\\\n",
    "& = exp[-\\frac{1}{2} x_i^T \\Sigma^{-1} x_i] \\cdot\n",
    "           exp[\\frac{1}{2} (x_i^T \\Sigma^{-1} (\\Sigma^{-1}+\\Lambda_0^{-1})^{-1} \\Sigma^{-1} x_i +\n",
    "           2 x_i^T \\Sigma^{-1} (\\Sigma^{-1}+\\Lambda_0^{-1})^{-1} \\Lambda_0^{-1}\\mu_0  \\\\ \n",
    "           & + (\\Lambda_0^{-1}\\mu_0)^T (\\Sigma^{-1}+\\Lambda_0^{-1})^{-1} \\Lambda_0^{-1}\\mu_0 )]\\\\\n",
    "& \\propto exp[-\\frac{1}{2} \\{ x_i^T (\\Sigma^{-1}- \\Sigma^{-1} (\\Sigma^{-1}+\\Lambda_0^{-1})^{-1} \\Sigma^{-1}) x_i \n",
    "              -2 x_i^T \\Sigma^{-1} (\\Sigma^{-1}+\\Lambda_0^{-1})^{-1} \\Lambda_0^{-1}\\mu_0 \\}] \n",
    "    \\sim \\mathcal{MVN}(\\mu_i, \\Lambda_i) \\\\\n",
    "& \\Lambda_i =(\\Sigma^{-1}- \\Sigma^{-1} (\\Sigma^{-1}+\\Lambda_0^{-1})^{-1} \\Sigma^{-1})^{-1} \\\\\n",
    "& \\mu_i = \\Lambda_i \\Sigma^{-1} (\\Sigma^{-1}+\\Lambda_0^{-1})^{-1} \\Lambda_0^{-1}\\mu_0\\\\\n",
    "\\end{split}\n",
    "$$"
   ]
  },
  {
   "cell_type": "markdown",
   "metadata": {},
   "source": [
    "## exisiting cluster\n",
    "$$\n",
    "\\begin{split}\n",
    "Pr(x_i|z_i = m, z_{-i}, x_{-i}, \\xi_m) &=\n",
    "\\int_{\\xi} Pr(x_i|\\xi_m) \\cdot Pr(\\xi_m|x_{j},\\mathcal{H}) \\quad where \\quad j \\neq i \\quad and \\quad z_j = m\\\\ \n",
    "\\end{split}\n",
    "$$"
   ]
  },
  {
   "cell_type": "code",
   "execution_count": null,
   "metadata": {
    "collapsed": true
   },
   "outputs": [],
   "source": []
  }
 ],
 "metadata": {
  "kernelspec": {
   "display_name": "Python 3",
   "language": "python",
   "name": "python3"
  },
  "language_info": {
   "codemirror_mode": {
    "name": "ipython",
    "version": 3
   },
   "file_extension": ".py",
   "mimetype": "text/x-python",
   "name": "python",
   "nbconvert_exporter": "python",
   "pygments_lexer": "ipython3",
   "version": "3.6.2"
  }
 },
 "nbformat": 4,
 "nbformat_minor": 2
}
